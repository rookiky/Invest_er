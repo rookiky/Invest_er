{
  "nbformat": 4,
  "nbformat_minor": 0,
  "metadata": {
    "colab": {
      "provenance": []
    },
    "kernelspec": {
      "name": "python3",
      "display_name": "Python 3"
    },
    "language_info": {
      "name": "python"
    }
  },
  "cells": [
    {
      "cell_type": "code",
      "execution_count": null,
      "metadata": {
        "id": "oOcdqXHq_3AG",
        "colab": {
          "base_uri": "https://localhost:8080/"
        },
        "outputId": "98a7397e-2f34-4c81-9876-d8005738a400"
      },
      "outputs": [
        {
          "output_type": "stream",
          "name": "stdout",
          "text": [
            "Requirement already satisfied: flask in /usr/local/lib/python3.10/dist-packages (3.0.3)\n",
            "Requirement already satisfied: pandas in /usr/local/lib/python3.10/dist-packages (2.2.2)\n",
            "Requirement already satisfied: Werkzeug>=3.0.0 in /usr/local/lib/python3.10/dist-packages (from flask) (3.1.3)\n",
            "Requirement already satisfied: Jinja2>=3.1.2 in /usr/local/lib/python3.10/dist-packages (from flask) (3.1.4)\n",
            "Requirement already satisfied: itsdangerous>=2.1.2 in /usr/local/lib/python3.10/dist-packages (from flask) (2.2.0)\n",
            "Requirement already satisfied: click>=8.1.3 in /usr/local/lib/python3.10/dist-packages (from flask) (8.1.7)\n",
            "Requirement already satisfied: blinker>=1.6.2 in /usr/local/lib/python3.10/dist-packages (from flask) (1.9.0)\n",
            "Requirement already satisfied: numpy>=1.22.4 in /usr/local/lib/python3.10/dist-packages (from pandas) (1.26.4)\n",
            "Requirement already satisfied: python-dateutil>=2.8.2 in /usr/local/lib/python3.10/dist-packages (from pandas) (2.8.2)\n",
            "Requirement already satisfied: pytz>=2020.1 in /usr/local/lib/python3.10/dist-packages (from pandas) (2024.2)\n",
            "Requirement already satisfied: tzdata>=2022.7 in /usr/local/lib/python3.10/dist-packages (from pandas) (2024.2)\n",
            "Requirement already satisfied: MarkupSafe>=2.0 in /usr/local/lib/python3.10/dist-packages (from Jinja2>=3.1.2->flask) (3.0.2)\n",
            "Requirement already satisfied: six>=1.5 in /usr/local/lib/python3.10/dist-packages (from python-dateutil>=2.8.2->pandas) (1.17.0)\n"
          ]
        }
      ],
      "source": [
        "pip install flask pandas\n"
      ]
    },
    {
      "cell_type": "code",
      "source": [
        "users = {\n",
        "    \"user123\": [\"AI\", \"HealthTech\", \"FinTech\"],\n",
        "    \"user456\": [\"EdTech\", \"HealthTech\"],\n",
        "    \"anika\":[\"AI\",\"Edtech\"],\n",
        "    \"Victor\":[\"Edtech\", \"FinTech\"],\n",
        "\n",
        "}\n"
      ],
      "metadata": {
        "id": "U8QEwyagM3KA"
      },
      "execution_count": null,
      "outputs": []
    },
    {
      "cell_type": "code",
      "source": [
        "startups = [\n",
        "    {\"id\": \"startup1\", \"name\": \"AI Solutions\", \"domains\": [\"AI\", \"EdTech\"], \"rating\": 4.2},\n",
        "    {\"id\": \"startup2\", \"name\": \"HealthX\", \"domains\": [\"HealthTech\", \"MedTech\"], \"rating\": 4.8},\n",
        "    {\"id\": \"startup3\", \"name\": \"FinanceGuru\", \"domains\": [\"FinTech\"], \"rating\": 4.5},\n",
        "    {\"id\": \"startup4\", \"name\": \"EduLearn\", \"domains\": [\"EdTech\"], \"rating\": 4.0},\n",
        "]\n"
      ],
      "metadata": {
        "id": "-zbqRF8fM6FE"
      },
      "execution_count": null,
      "outputs": []
    },
    {
      "cell_type": "code",
      "source": [
        "def recommend_startups(user_id):\n",
        "    user_domains = users.get(user_id, [])\n",
        "    if not user_domains:\n",
        "        return []  # Return empty list if no domains found for the user\n",
        "\n",
        "    recommendations = []\n",
        "    for startup in startups:\n",
        "        # Find matching domains\n",
        "        matching_domains = set(user_domains).intersection(set(startup[\"domains\"]))\n",
        "        if matching_domains:\n",
        "            # Calculate score based on matches and rating\n",
        "            score = len(matching_domains) / len(startup[\"domains\"]) + (0.1 * startup[\"rating\"])\n",
        "            recommendations.append({\n",
        "                \"startup\": startup[\"name\"],\n",
        "                \"domains\": startup[\"domains\"],\n",
        "                \"score\": score\n",
        "            })\n",
        "\n",
        "    # Return recommendations (empty if no matches)\n",
        "    return recommendations\n"
      ],
      "metadata": {
        "id": "ZN0bWnDyM94m"
      },
      "execution_count": null,
      "outputs": []
    },
    {
      "cell_type": "code",
      "source": [
        "# here our recommendation system working, based on the descending order of the calculated scores key.\n",
        "\n",
        "def sort_recommendations(recommendations):\n",
        "    recommendations.sort(key=lambda x: x[\"score\"], reverse=True) # here in key lambda we are mentioning that recommendation sorting is being done by score\n",
        "    # the reverse= true here means descending order, if it was false then it will be ascending order. So we are having the largest scores first.\n",
        "    return recommendations\n"
      ],
      "metadata": {
        "id": "jSFd_bXkNDJ9"
      },
      "execution_count": null,
      "outputs": []
    },
    {
      "cell_type": "code",
      "source": [
        "\n",
        "\n",
        "# Define the function to get recommendations for a user\n",
        "def get_recommendations_for_user(user_id):\n",
        "    recommendations = recommend_startups(user_id)\n",
        "    sorted_recommendations = sort_recommendations(recommendations)\n",
        "\n",
        "    if sorted_recommendations:  # Only iterate if there are recommendations\n",
        "        for rec in sorted_recommendations:\n",
        "            print(f\"{rec['startup']} - Domains: {', '.join(rec['domains'])} - Score: {rec['score']:.2f}\")\n",
        "    else:\n",
        "        print(\"No recommendations found.\")\n",
        "\n",
        "# Now, you can call the function after it’s defined\n",
        "get_recommendations_for_user(\"user123\")  # For user123\n",
        "get_recommendations_for_user(\"user456\")  # For user456\n"
      ],
      "metadata": {
        "colab": {
          "base_uri": "https://localhost:8080/"
        },
        "id": "BSPPxpRbN_Ot",
        "outputId": "8b73921a-a66d-4fa0-c73d-2dcea7df32c7"
      },
      "execution_count": null,
      "outputs": [
        {
          "output_type": "stream",
          "name": "stdout",
          "text": [
            "AI Solutions - Domains: AI, EdTech - Score: 0.92\n",
            "HealthX - Domains: HealthTech, MedTech - Score: 0.98\n",
            "FinanceGuru - Domains: FinTech - Score: 1.45\n",
            "AI Solutions - Domains: AI, EdTech - Score: 0.92\n",
            "HealthX - Domains: HealthTech, MedTech - Score: 0.98\n",
            "EduLearn - Domains: EdTech - Score: 1.40\n"
          ]
        }
      ]
    },
    {
      "cell_type": "code",
      "source": [
        "get_recommendations_for_user(\"anika\")"
      ],
      "metadata": {
        "colab": {
          "base_uri": "https://localhost:8080/"
        },
        "id": "J94qxwMATP9I",
        "outputId": "0d06b724-20d7-4559-aa19-2036a01f06f7"
      },
      "execution_count": null,
      "outputs": [
        {
          "output_type": "stream",
          "name": "stdout",
          "text": [
            "AI Solutions - Domains: AI, EdTech - Score: 0.92\n"
          ]
        }
      ]
    },
    {
      "cell_type": "code",
      "source": [
        "get_recommendations_for_user(\"Victor\")"
      ],
      "metadata": {
        "colab": {
          "base_uri": "https://localhost:8080/"
        },
        "id": "Cw1N9e8AVeLE",
        "outputId": "512632c6-59ba-4f2c-bea5-2ffc6a8d8bb1"
      },
      "execution_count": null,
      "outputs": [
        {
          "output_type": "stream",
          "name": "stdout",
          "text": [
            "FinanceGuru - Domains: FinTech - Score: 1.45\n"
          ]
        }
      ]
    }
  ]
}